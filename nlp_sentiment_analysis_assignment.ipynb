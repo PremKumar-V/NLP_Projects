{
  "cells": [
    {
      "cell_type": "markdown",
      "metadata": {
        "id": "view-in-github",
        "colab_type": "text"
      },
      "source": [
        "<a href=\"https://colab.research.google.com/github/PremKumar-V/NLP_Projects/blob/main/nlp_sentiment_analysis_assignment.ipynb\" target=\"_parent\"><img src=\"https://colab.research.google.com/assets/colab-badge.svg\" alt=\"Open In Colab\"/></a>"
      ]
    },
    {
      "cell_type": "markdown",
      "metadata": {
        "id": "8Gf0u3uzd7oM"
      },
      "source": [
        "# Assignment - Sentiment Analysis of Movie Reviews\n",
        "\n",
        "![](https://i.imgur.com/6Wfmf2S.png)\n",
        "\n",
        "> **Problem Statement**: Apply the TF-IDF technique to train ML models for sentiment analysis using data from the \"[Sentiment Analysis on Movie Reviews](https://www.kaggle.com/c/sentiment-analysis-on-movie-reviews)\" Kaggle competition.\n",
        "\n",
        "\n",
        "Outline:\n",
        "\n",
        "1. Download and Explore Dataset\n",
        "2. Implement the TF-IDF Technique\n",
        "3. Train baseline model & submit to Kaggle\n",
        "4. Train & finetune different ML models\n",
        "3. Document & submit your notebook\n",
        "\n",
        "\n",
        "Dataset: https://www.kaggle.com/c/sentiment-analysis-on-movie-reviews\n"
      ]
    },
    {
      "cell_type": "markdown",
      "metadata": {
        "id": "hw0pygCOefi9"
      },
      "source": [
        "## Download and Explore the Data\n",
        "\n",
        "Outline:\n",
        "\n",
        "1. Download Dataset from Kaggle\n",
        "2. Explore and visualize data"
      ]
    },
    {
      "cell_type": "markdown",
      "metadata": {
        "id": "KPS8buEdtllZ"
      },
      "source": [
        "### Download Dataset from Kaggle\n",
        "\n",
        "- Read the \"Description\", \"Evaluation\" and \"Data\" sections on the Kaggle competition page carefully\n",
        "- Make sure to download the `kaggle.json` file from your [Kaggle account](https://kaggle.com/me/account) and upload it on Colab"
      ]
    },
    {
      "cell_type": "code",
      "execution_count": 1,
      "metadata": {
        "id": "bAXqBq9GoviQ"
      },
      "outputs": [],
      "source": [
        "!mkdir ~/.kaggle"
      ]
    },
    {
      "cell_type": "code",
      "execution_count": 2,
      "metadata": {
        "id": "TclMS_8i_Rl8"
      },
      "outputs": [],
      "source": [
        "!cp kaggle.json ~/.kaggle/kaggle.json"
      ]
    },
    {
      "cell_type": "code",
      "execution_count": 3,
      "metadata": {
        "id": "197Uci50_Ze0"
      },
      "outputs": [],
      "source": [
        "!chmod 600 ~/.kaggle/kaggle.json"
      ]
    },
    {
      "cell_type": "code",
      "execution_count": 4,
      "metadata": {
        "colab": {
          "base_uri": "https://localhost:8080/"
        },
        "id": "FnaGd60Zuxgg",
        "outputId": "ac5151e5-3f49-444d-8cef-37c096eca971"
      },
      "outputs": [
        {
          "output_type": "stream",
          "name": "stdout",
          "text": [
            "Downloading sentiment-analysis-on-movie-reviews.zip to /content\n",
            "\r  0% 0.00/1.90M [00:00<?, ?B/s]\n",
            "\r100% 1.90M/1.90M [00:00<00:00, 109MB/s]\n"
          ]
        }
      ],
      "source": [
        "!kaggle competitions download -c sentiment-analysis-on-movie-reviews"
      ]
    },
    {
      "cell_type": "code",
      "execution_count": 5,
      "metadata": {
        "colab": {
          "base_uri": "https://localhost:8080/"
        },
        "id": "lcRhDakmuxEm",
        "outputId": "afee3fc3-a12a-416b-cabe-606429e16ba9"
      },
      "outputs": [
        {
          "output_type": "stream",
          "name": "stdout",
          "text": [
            "Archive:  sentiment-analysis-on-movie-reviews.zip\n",
            "  inflating: data/sampleSubmission.csv  \n",
            "  inflating: data/test.tsv.zip       \n",
            "  inflating: data/train.tsv.zip      \n"
          ]
        }
      ],
      "source": [
        "!unzip sentiment-analysis-on-movie-reviews.zip -d data"
      ]
    },
    {
      "cell_type": "code",
      "execution_count": 6,
      "metadata": {
        "id": "MdQqvmtvend_"
      },
      "outputs": [],
      "source": [
        "train_file_name = '/content/data/train.tsv.zip'\n",
        "test_file_name = '/content/data/test.tsv.zip'\n",
        "sub_file_name = '/content/data/sampleSubmission.csv'"
      ]
    },
    {
      "cell_type": "markdown",
      "metadata": {
        "id": "CVbujLQ9tpAb"
      },
      "source": [
        "### Explore and Visualize Data\n",
        "\n",
        "* Load the train, test, and submission files using Pandas\n",
        "* Explore rows, columns, sample values etc.\n",
        "* Visualize distribution of target columns"
      ]
    },
    {
      "cell_type": "code",
      "execution_count": 7,
      "metadata": {
        "id": "nEFLvfunenbr"
      },
      "outputs": [],
      "source": [
        "import pandas as pd"
      ]
    },
    {
      "cell_type": "code",
      "execution_count": 8,
      "metadata": {
        "id": "H2JenReXw7SI"
      },
      "outputs": [],
      "source": [
        "raw_df = pd.read_csv(train_file_name, sep = '\\t')"
      ]
    },
    {
      "cell_type": "code",
      "execution_count": 9,
      "metadata": {
        "colab": {
          "base_uri": "https://localhost:8080/",
          "height": 363
        },
        "id": "4-cvRH3HenYx",
        "outputId": "42cd222c-5339-40ad-b2ba-171346599ab5"
      },
      "outputs": [
        {
          "output_type": "execute_result",
          "data": {
            "text/plain": [
              "   PhraseId  SentenceId                                             Phrase  \\\n",
              "0         1           1  A series of escapades demonstrating the adage ...   \n",
              "1         2           1  A series of escapades demonstrating the adage ...   \n",
              "2         3           1                                           A series   \n",
              "3         4           1                                                  A   \n",
              "4         5           1                                             series   \n",
              "5         6           1  of escapades demonstrating the adage that what...   \n",
              "6         7           1                                                 of   \n",
              "7         8           1  escapades demonstrating the adage that what is...   \n",
              "8         9           1                                          escapades   \n",
              "9        10           1  demonstrating the adage that what is good for ...   \n",
              "\n",
              "   Sentiment  \n",
              "0          1  \n",
              "1          2  \n",
              "2          2  \n",
              "3          2  \n",
              "4          2  \n",
              "5          2  \n",
              "6          2  \n",
              "7          2  \n",
              "8          2  \n",
              "9          2  "
            ],
            "text/html": [
              "\n",
              "  <div id=\"df-89cc5b81-be3d-40a9-be16-088bc79cfea0\">\n",
              "    <div class=\"colab-df-container\">\n",
              "      <div>\n",
              "<style scoped>\n",
              "    .dataframe tbody tr th:only-of-type {\n",
              "        vertical-align: middle;\n",
              "    }\n",
              "\n",
              "    .dataframe tbody tr th {\n",
              "        vertical-align: top;\n",
              "    }\n",
              "\n",
              "    .dataframe thead th {\n",
              "        text-align: right;\n",
              "    }\n",
              "</style>\n",
              "<table border=\"1\" class=\"dataframe\">\n",
              "  <thead>\n",
              "    <tr style=\"text-align: right;\">\n",
              "      <th></th>\n",
              "      <th>PhraseId</th>\n",
              "      <th>SentenceId</th>\n",
              "      <th>Phrase</th>\n",
              "      <th>Sentiment</th>\n",
              "    </tr>\n",
              "  </thead>\n",
              "  <tbody>\n",
              "    <tr>\n",
              "      <th>0</th>\n",
              "      <td>1</td>\n",
              "      <td>1</td>\n",
              "      <td>A series of escapades demonstrating the adage ...</td>\n",
              "      <td>1</td>\n",
              "    </tr>\n",
              "    <tr>\n",
              "      <th>1</th>\n",
              "      <td>2</td>\n",
              "      <td>1</td>\n",
              "      <td>A series of escapades demonstrating the adage ...</td>\n",
              "      <td>2</td>\n",
              "    </tr>\n",
              "    <tr>\n",
              "      <th>2</th>\n",
              "      <td>3</td>\n",
              "      <td>1</td>\n",
              "      <td>A series</td>\n",
              "      <td>2</td>\n",
              "    </tr>\n",
              "    <tr>\n",
              "      <th>3</th>\n",
              "      <td>4</td>\n",
              "      <td>1</td>\n",
              "      <td>A</td>\n",
              "      <td>2</td>\n",
              "    </tr>\n",
              "    <tr>\n",
              "      <th>4</th>\n",
              "      <td>5</td>\n",
              "      <td>1</td>\n",
              "      <td>series</td>\n",
              "      <td>2</td>\n",
              "    </tr>\n",
              "    <tr>\n",
              "      <th>5</th>\n",
              "      <td>6</td>\n",
              "      <td>1</td>\n",
              "      <td>of escapades demonstrating the adage that what...</td>\n",
              "      <td>2</td>\n",
              "    </tr>\n",
              "    <tr>\n",
              "      <th>6</th>\n",
              "      <td>7</td>\n",
              "      <td>1</td>\n",
              "      <td>of</td>\n",
              "      <td>2</td>\n",
              "    </tr>\n",
              "    <tr>\n",
              "      <th>7</th>\n",
              "      <td>8</td>\n",
              "      <td>1</td>\n",
              "      <td>escapades demonstrating the adage that what is...</td>\n",
              "      <td>2</td>\n",
              "    </tr>\n",
              "    <tr>\n",
              "      <th>8</th>\n",
              "      <td>9</td>\n",
              "      <td>1</td>\n",
              "      <td>escapades</td>\n",
              "      <td>2</td>\n",
              "    </tr>\n",
              "    <tr>\n",
              "      <th>9</th>\n",
              "      <td>10</td>\n",
              "      <td>1</td>\n",
              "      <td>demonstrating the adage that what is good for ...</td>\n",
              "      <td>2</td>\n",
              "    </tr>\n",
              "  </tbody>\n",
              "</table>\n",
              "</div>\n",
              "      <button class=\"colab-df-convert\" onclick=\"convertToInteractive('df-89cc5b81-be3d-40a9-be16-088bc79cfea0')\"\n",
              "              title=\"Convert this dataframe to an interactive table.\"\n",
              "              style=\"display:none;\">\n",
              "        \n",
              "  <svg xmlns=\"http://www.w3.org/2000/svg\" height=\"24px\"viewBox=\"0 0 24 24\"\n",
              "       width=\"24px\">\n",
              "    <path d=\"M0 0h24v24H0V0z\" fill=\"none\"/>\n",
              "    <path d=\"M18.56 5.44l.94 2.06.94-2.06 2.06-.94-2.06-.94-.94-2.06-.94 2.06-2.06.94zm-11 1L8.5 8.5l.94-2.06 2.06-.94-2.06-.94L8.5 2.5l-.94 2.06-2.06.94zm10 10l.94 2.06.94-2.06 2.06-.94-2.06-.94-.94-2.06-.94 2.06-2.06.94z\"/><path d=\"M17.41 7.96l-1.37-1.37c-.4-.4-.92-.59-1.43-.59-.52 0-1.04.2-1.43.59L10.3 9.45l-7.72 7.72c-.78.78-.78 2.05 0 2.83L4 21.41c.39.39.9.59 1.41.59.51 0 1.02-.2 1.41-.59l7.78-7.78 2.81-2.81c.8-.78.8-2.07 0-2.86zM5.41 20L4 18.59l7.72-7.72 1.47 1.35L5.41 20z\"/>\n",
              "  </svg>\n",
              "      </button>\n",
              "      \n",
              "  <style>\n",
              "    .colab-df-container {\n",
              "      display:flex;\n",
              "      flex-wrap:wrap;\n",
              "      gap: 12px;\n",
              "    }\n",
              "\n",
              "    .colab-df-convert {\n",
              "      background-color: #E8F0FE;\n",
              "      border: none;\n",
              "      border-radius: 50%;\n",
              "      cursor: pointer;\n",
              "      display: none;\n",
              "      fill: #1967D2;\n",
              "      height: 32px;\n",
              "      padding: 0 0 0 0;\n",
              "      width: 32px;\n",
              "    }\n",
              "\n",
              "    .colab-df-convert:hover {\n",
              "      background-color: #E2EBFA;\n",
              "      box-shadow: 0px 1px 2px rgba(60, 64, 67, 0.3), 0px 1px 3px 1px rgba(60, 64, 67, 0.15);\n",
              "      fill: #174EA6;\n",
              "    }\n",
              "\n",
              "    [theme=dark] .colab-df-convert {\n",
              "      background-color: #3B4455;\n",
              "      fill: #D2E3FC;\n",
              "    }\n",
              "\n",
              "    [theme=dark] .colab-df-convert:hover {\n",
              "      background-color: #434B5C;\n",
              "      box-shadow: 0px 1px 3px 1px rgba(0, 0, 0, 0.15);\n",
              "      filter: drop-shadow(0px 1px 2px rgba(0, 0, 0, 0.3));\n",
              "      fill: #FFFFFF;\n",
              "    }\n",
              "  </style>\n",
              "\n",
              "      <script>\n",
              "        const buttonEl =\n",
              "          document.querySelector('#df-89cc5b81-be3d-40a9-be16-088bc79cfea0 button.colab-df-convert');\n",
              "        buttonEl.style.display =\n",
              "          google.colab.kernel.accessAllowed ? 'block' : 'none';\n",
              "\n",
              "        async function convertToInteractive(key) {\n",
              "          const element = document.querySelector('#df-89cc5b81-be3d-40a9-be16-088bc79cfea0');\n",
              "          const dataTable =\n",
              "            await google.colab.kernel.invokeFunction('convertToInteractive',\n",
              "                                                     [key], {});\n",
              "          if (!dataTable) return;\n",
              "\n",
              "          const docLinkHtml = 'Like what you see? Visit the ' +\n",
              "            '<a target=\"_blank\" href=https://colab.research.google.com/notebooks/data_table.ipynb>data table notebook</a>'\n",
              "            + ' to learn more about interactive tables.';\n",
              "          element.innerHTML = '';\n",
              "          dataTable['output_type'] = 'display_data';\n",
              "          await google.colab.output.renderOutput(dataTable, element);\n",
              "          const docLink = document.createElement('div');\n",
              "          docLink.innerHTML = docLinkHtml;\n",
              "          element.appendChild(docLink);\n",
              "        }\n",
              "      </script>\n",
              "    </div>\n",
              "  </div>\n",
              "  "
            ]
          },
          "metadata": {},
          "execution_count": 9
        }
      ],
      "source": [
        "raw_df.head(10)"
      ]
    },
    {
      "cell_type": "code",
      "execution_count": 10,
      "metadata": {
        "colab": {
          "base_uri": "https://localhost:8080/"
        },
        "id": "EF3B9tjTxJVn",
        "outputId": "73c17de9-e307-4610-b7d6-1f4c8f6f715d"
      },
      "outputs": [
        {
          "output_type": "execute_result",
          "data": {
            "text/plain": [
              "2    79582\n",
              "3    32927\n",
              "1    27273\n",
              "4     9206\n",
              "0     7072\n",
              "Name: Sentiment, dtype: int64"
            ]
          },
          "metadata": {},
          "execution_count": 10
        }
      ],
      "source": [
        "raw_df.Sentiment.value_counts()"
      ]
    },
    {
      "cell_type": "code",
      "execution_count": 11,
      "metadata": {
        "colab": {
          "base_uri": "https://localhost:8080/",
          "height": 425
        },
        "id": "ZwubETUvxTBo",
        "outputId": "c4094b57-3d0a-4d5f-aa37-825264e78281"
      },
      "outputs": [
        {
          "output_type": "display_data",
          "data": {
            "text/plain": [
              "<Figure size 640x480 with 1 Axes>"
            ],
            "image/png": "[encoded data removed]"
          },
          "metadata": {}
        }
      ],
      "source": [
        "raw_df.Sentiment.value_counts().plot(kind = 'bar');"
      ]
    },
    {
      "cell_type": "code",
      "execution_count": 12,
      "metadata": {
        "colab": {
          "base_uri": "https://localhost:8080/"
        },
        "id": "l0Skd9KnxdjV",
        "outputId": "04ad143e-e89b-42b3-cd50-5073fedd6a97"
      },
      "outputs": [
        {
          "output_type": "execute_result",
          "data": {
            "text/plain": [
              "1       63\n",
              "5555    63\n",
              "509     59\n",
              "625     58\n",
              "403     57\n",
              "        ..\n",
              "7572     1\n",
              "4579     1\n",
              "2392     1\n",
              "2429     1\n",
              "4982     1\n",
              "Name: SentenceId, Length: 8529, dtype: int64"
            ]
          },
          "metadata": {},
          "execution_count": 12
        }
      ],
      "source": [
        "raw_df.SentenceId.value_counts()"
      ]
    },
    {
      "cell_type": "code",
      "execution_count": 13,
      "metadata": {
        "colab": {
          "base_uri": "https://localhost:8080/",
          "height": 451
        },
        "id": "uT_Dci92enWk",
        "outputId": "653e9a77-27b7-42ef-fc3f-2b474ad21a59"
      },
      "outputs": [
        {
          "output_type": "display_data",
          "data": {
            "text/plain": [
              "<Figure size 640x480 with 1 Axes>"
            ],
            "image/png": "[encoded data removed]"
          },
          "metadata": {}
        }
      ],
      "source": [
        "raw_df.SentenceId.value_counts()[:10].plot(kind = 'bar');"
      ]
    },
    {
      "cell_type": "code",
      "execution_count": 14,
      "metadata": {
        "colab": {
          "base_uri": "https://localhost:8080/"
        },
        "id": "NYuQmniiEu7y",
        "outputId": "be1831c1-414d-45e9-eecf-08821991f7b0"
      },
      "outputs": [
        {
          "output_type": "execute_result",
          "data": {
            "text/plain": [
              "1       0.000404\n",
              "5555    0.000404\n",
              "509     0.000378\n",
              "625     0.000372\n",
              "403     0.000365\n",
              "149     0.000359\n",
              "22      0.000359\n",
              "240     0.000352\n",
              "128     0.000346\n",
              "7705    0.000346\n",
              "Name: SentenceId, dtype: float64"
            ]
          },
          "metadata": {},
          "execution_count": 14
        }
      ],
      "source": [
        "raw_df.SentenceId.value_counts(normalize = True)[:10]"
      ]
    },
    {
      "cell_type": "code",
      "execution_count": 15,
      "metadata": {
        "id": "1ao58CXLx15G"
      },
      "outputs": [],
      "source": [
        "test_df = pd.read_csv(test_file_name, sep = '\\t')"
      ]
    },
    {
      "cell_type": "code",
      "execution_count": 16,
      "metadata": {
        "id": "-uae8Me6tt4I"
      },
      "outputs": [],
      "source": [
        "sub_df = pd.read_csv(sub_file_name)"
      ]
    },
    {
      "cell_type": "code",
      "execution_count": 17,
      "metadata": {
        "colab": {
          "base_uri": "https://localhost:8080/"
        },
        "id": "Y8mJk3hxx1qA",
        "outputId": "cbb51889-a4b7-41ba-849c-df3331fdda8a"
      },
      "outputs": [
        {
          "output_type": "execute_result",
          "data": {
            "text/plain": [
              "PhraseId      0\n",
              "SentenceId    0\n",
              "Phrase        0\n",
              "Sentiment     0\n",
              "dtype: int64"
            ]
          },
          "metadata": {},
          "execution_count": 17
        }
      ],
      "source": [
        "raw_df.isna().sum()"
      ]
    },
    {
      "cell_type": "markdown",
      "metadata": {
        "id": "yESLHuK3x65P"
      },
      "source": [
        "Summarize your insights and learnings from the dataset below:\n",
        "\n",
        "* No `NULL` values.\n",
        "* About `50%` of Data states neutral\n",
        "* Most Phrase are from Sentence `1` and `5555`"
      ]
    },
    {
      "cell_type": "markdown",
      "metadata": {
        "id": "pYaRDixJen33"
      },
      "source": [
        "## Implement TF-IDF Technique\n",
        "\n",
        "![](https://i.imgur.com/5VbUPup.png)\n",
        "\n",
        "Outline:\n",
        "\n",
        "1. Learn the vocabulary using `TfidfVectorizer`\n",
        "3. Transform training and test data"
      ]
    },
    {
      "cell_type": "markdown",
      "metadata": {
        "id": "m3cu-meXuETm"
      },
      "source": [
        "#### Learn Vocabulary using `TfidfVectorizer `\n",
        "\n",
        "* Create custom tokenizer with stemming\n",
        "* Create a list of stop words\n",
        "* Configure and create `TfidfVectorizer `\n",
        "* Learn vocubulary from training set\n",
        "* View sample entries from vocabulary"
      ]
    },
    {
      "cell_type": "markdown",
      "metadata": {
        "id": "AyS3iRY1IqfF"
      },
      "source": [
        "- Use lemmentizer\n",
        "- Don't remove pun and digits\n",
        "- Play with Ngram\n",
        "- Play with Maxfeatures"
      ]
    },
    {
      "cell_type": "code",
      "execution_count": 18,
      "metadata": {
        "colab": {
          "base_uri": "https://localhost:8080/"
        },
        "id": "u7pWYRHnzUWW",
        "outputId": "af22f6cb-5963-46c5-fb32-c96da5f6a729"
      },
      "outputs": [
        {
          "output_type": "stream",
          "name": "stderr",
          "text": [
            "[nltk_data] Downloading package punkt to /root/nltk_data...\n",
            "[nltk_data]   Unzipping tokenizers/punkt.zip.\n"
          ]
        }
      ],
      "source": [
        "import nltk\n",
        "from nltk.tokenize import word_tokenize\n",
        "from nltk.stem.snowball import SnowballStemmer\n",
        "\n",
        "nltk.download('punkt')\n",
        "\n",
        "stemmer = SnowballStemmer(language = 'english')"
      ]
    },
    {
      "cell_type": "code",
      "execution_count": 19,
      "metadata": {
        "id": "Ag_lyI8mzbqE"
      },
      "outputs": [],
      "source": [
        "def tokenize(text):\n",
        "    return [stemmer.stem(token) for token in word_tokenize(text) if token.isalpha()]"
      ]
    },
    {
      "cell_type": "code",
      "execution_count": 20,
      "metadata": {
        "colab": {
          "base_uri": "https://localhost:8080/",
          "height": 53
        },
        "id": "4vzkmwVG0GGE",
        "outputId": "4d6b4566-602c-4d93-cf2c-6550ae219267"
      },
      "outputs": [
        {
          "output_type": "execute_result",
          "data": {
            "text/plain": [
              "'a, seri, of, escapad, demonstr, the, adag, that, what, is, good, for, the, goos, is, also, good, for, the, gander, some, of, which, occasion, amus, but, none, of, which, amount, to, much, of, a, stori'"
            ],
            "application/vnd.google.colaboratory.intrinsic+json": {
              "type": "string"
            }
          },
          "metadata": {},
          "execution_count": 20
        }
      ],
      "source": [
        "\", \".join(tokenize(raw_df.Phrase[0]))"
      ]
    },
    {
      "cell_type": "code",
      "execution_count": 21,
      "metadata": {
        "id": "DxZWPPfE0FeN"
      },
      "outputs": [],
      "source": [
        "from sklearn.feature_extraction.text import TfidfVectorizer"
      ]
    },
    {
      "cell_type": "code",
      "execution_count": 22,
      "metadata": {
        "colab": {
          "base_uri": "https://localhost:8080/",
          "height": 142
        },
        "id": "K-p7_3nhJoSh",
        "outputId": "80f47391-39fd-4d37-931f-13a279d31dad"
      },
      "outputs": [
        {
          "output_type": "stream",
          "name": "stderr",
          "text": [
            "[nltk_data] Downloading package stopwords to /root/nltk_data...\n",
            "[nltk_data]   Unzipping corpora/stopwords.zip.\n"
          ]
        },
        {
          "output_type": "execute_result",
          "data": {
            "text/plain": [
              "\"i, me, my, myself, we, our, ours, ourselves, you, you're, you've, you'll, you'd, your, yours, yourself, yourselves, he, him, his, himself, she, she's, her, hers, herself, it, it's, its, itself, they, them, their, theirs, themselves, what, which, who, whom, this, that, that'll, these, those, am, is, are, was, were, be, been, being, have, has, had, having, do, does, did, doing, a, an, the, and, but, if, or, because, as, until, while, of, at, by, for, with, about, against, between, into, through, during, before, after, above, below, to, from, up, down, in, out, on, off, over, under, again, further, then, once, here, there, when, where, why, how, all, any, both, each, few, more, most, other, some, such\""
            ],
            "application/vnd.google.colaboratory.intrinsic+json": {
              "type": "string"
            }
          },
          "metadata": {},
          "execution_count": 22
        }
      ],
      "source": [
        "from nltk.corpus import stopwords\n",
        "\n",
        "nltk.download('stopwords')\n",
        "\n",
        "eng_stopwords = stopwords.words('english')\n",
        "\n",
        "\", \".join(eng_stopwords[:116])"
      ]
    },
    {
      "cell_type": "code",
      "execution_count": 23,
      "metadata": {
        "id": "Bf0dmqXgKZ05"
      },
      "outputs": [],
      "source": [
        "selected_stopword = eng_stopwords[:116]"
      ]
    },
    {
      "cell_type": "code",
      "execution_count": 24,
      "metadata": {
        "id": "ffPOWbhdd7oP"
      },
      "outputs": [],
      "source": [
        "vectorizer = TfidfVectorizer(\n",
        "                tokenizer = tokenize,\n",
        "                stop_words = selected_stopword,\n",
        "                ngram_range = (1, 2),\n",
        "                max_features = 2000\n",
        ")"
      ]
    },
    {
      "cell_type": "code",
      "execution_count": 25,
      "metadata": {
        "colab": {
          "base_uri": "https://localhost:8080/",
          "height": 323
        },
        "id": "Tp3P0zaw0ATc",
        "outputId": "6b954ff9-29ef-48d3-e784-54ddcd3d84a2"
      },
      "outputs": [
        {
          "output_type": "stream",
          "name": "stderr",
          "text": [
            "/usr/local/lib/python3.10/dist-packages/sklearn/feature_extraction/text.py:528: UserWarning: The parameter 'token_pattern' will not be used since 'tokenizer' is not None'\n",
            "  warnings.warn(\n",
            "/usr/local/lib/python3.10/dist-packages/sklearn/feature_extraction/text.py:409: UserWarning: Your stop_words may be inconsistent with your preprocessing. Tokenizing the stop words generated tokens ['abov', 'ani', 'becaus', 'befor', 'doe', 'dure', 'onc', 'ourselv', 'themselv', 'whi', 'yourselv'] not in stop_words.\n",
            "  warnings.warn(\n"
          ]
        },
        {
          "output_type": "stream",
          "name": "stdout",
          "text": [
            "CPU times: user 38.6 s, sys: 181 ms, total: 38.8 s\n",
            "Wall time: 49.1 s\n"
          ]
        },
        {
          "output_type": "execute_result",
          "data": {
            "text/plain": [
              "TfidfVectorizer(max_features=2000, ngram_range=(1, 2),\n",
              "                stop_words=['i', 'me', 'my', 'myself', 'we', 'our', 'ours',\n",
              "                            'ourselves', 'you', \"you're\", \"you've\", \"you'll\",\n",
              "                            \"you'd\", 'your', 'yours', 'yourself', 'yourselves',\n",
              "                            'he', 'him', 'his', 'himself', 'she', \"she's\",\n",
              "                            'her', 'hers', 'herself', 'it', \"it's\", 'its',\n",
              "                            'itself', ...],\n",
              "                tokenizer=<function tokenize at 0x7f0f0a300550>)"
            ],
            "text/html": [
              "<style>#sk-container-id-1 {color: black;background-color: white;}#sk-container-id-1 pre{padding: 0;}#sk-container-id-1 div.sk-toggleable {background-color: white;}#sk-container-id-1 label.sk-toggleable__label {cursor: pointer;display: block;width: 100%;margin-bottom: 0;padding: 0.3em;box-sizing: border-box;text-align: center;}#sk-container-id-1 label.sk-toggleable__label-arrow:before {content: \"▸\";float: left;margin-right: 0.25em;color: #696969;}#sk-container-id-1 label.sk-toggleable__label-arrow:hover:before {color: black;}#sk-container-id-1 div.sk-estimator:hover label.sk-toggleable__label-arrow:before {color: black;}#sk-container-id-1 div.sk-toggleable__content {max-height: 0;max-width: 0;overflow: hidden;text-align: left;background-color: #f0f8ff;}#sk-container-id-1 div.sk-toggleable__content pre {margin: 0.2em;color: black;border-radius: 0.25em;background-color: #f0f8ff;}#sk-container-id-1 input.sk-toggleable__control:checked~div.sk-toggleable__content {max-height: 200px;max-width: 100%;overflow: auto;}#sk-container-id-1 input.sk-toggleable__control:checked~label.sk-toggleable__label-arrow:before {content: \"▾\";}#sk-container-id-1 div.sk-estimator input.sk-toggleable__control:checked~label.sk-toggleable__label {background-color: #d4ebff;}#sk-container-id-1 div.sk-label input.sk-toggleable__control:checked~label.sk-toggleable__label {background-color: #d4ebff;}#sk-container-id-1 input.sk-hidden--visually {border: 0;clip: rect(1px 1px 1px 1px);clip: rect(1px, 1px, 1px, 1px);height: 1px;margin: -1px;overflow: hidden;padding: 0;position: absolute;width: 1px;}#sk-container-id-1 div.sk-estimator {font-family: monospace;background-color: #f0f8ff;border: 1px dotted black;border-radius: 0.25em;box-sizing: border-box;margin-bottom: 0.5em;}#sk-container-id-1 div.sk-estimator:hover {background-color: #d4ebff;}#sk-container-id-1 div.sk-parallel-item::after {content: \"\";width: 100%;border-bottom: 1px solid gray;flex-grow: 1;}#sk-container-id-1 div.sk-label:hover label.sk-toggleable__label {background-color: #d4ebff;}#sk-container-id-1 div.sk-serial::before {content: \"\";position: absolute;border-left: 1px solid gray;box-sizing: border-box;top: 0;bottom: 0;left: 50%;z-index: 0;}#sk-container-id-1 div.sk-serial {display: flex;flex-direction: column;align-items: center;background-color: white;padding-right: 0.2em;padding-left: 0.2em;position: relative;}#sk-container-id-1 div.sk-item {position: relative;z-index: 1;}#sk-container-id-1 div.sk-parallel {display: flex;align-items: stretch;justify-content: center;background-color: white;position: relative;}#sk-container-id-1 div.sk-item::before, #sk-container-id-1 div.sk-parallel-item::before {content: \"\";position: absolute;border-left: 1px solid gray;box-sizing: border-box;top: 0;bottom: 0;left: 50%;z-index: -1;}#sk-container-id-1 div.sk-parallel-item {display: flex;flex-direction: column;z-index: 1;position: relative;background-color: white;}#sk-container-id-1 div.sk-parallel-item:first-child::after {align-self: flex-end;width: 50%;}#sk-container-id-1 div.sk-parallel-item:last-child::after {align-self: flex-start;width: 50%;}#sk-container-id-1 div.sk-parallel-item:only-child::after {width: 0;}#sk-container-id-1 div.sk-dashed-wrapped {border: 1px dashed gray;margin: 0 0.4em 0.5em 0.4em;box-sizing: border-box;padding-bottom: 0.4em;background-color: white;}#sk-container-id-1 div.sk-label label {font-family: monospace;font-weight: bold;display: inline-block;line-height: 1.2em;}#sk-container-id-1 div.sk-label-container {text-align: center;}#sk-container-id-1 div.sk-container {/* jupyter's `normalize.less` sets `[hidden] { display: none; }` but bootstrap.min.css set `[hidden] { display: none !important; }` so we also need the `!important` here to be able to override the default hidden behavior on the sphinx rendered scikit-learn.org. See: https://github.com/scikit-learn/scikit-learn/issues/21755 */display: inline-block !important;position: relative;}#sk-container-id-1 div.sk-text-repr-fallback {display: none;}</style><div id=\"sk-container-id-1\" class=\"sk-top-container\"><div class=\"sk-text-repr-fallback\"><pre>TfidfVectorizer(max_features=2000, ngram_range=(1, 2),\n",
              "                stop_words=[&#x27;i&#x27;, &#x27;me&#x27;, &#x27;my&#x27;, &#x27;myself&#x27;, &#x27;we&#x27;, &#x27;our&#x27;, &#x27;ours&#x27;,\n",
              "                            &#x27;ourselves&#x27;, &#x27;you&#x27;, &quot;you&#x27;re&quot;, &quot;you&#x27;ve&quot;, &quot;you&#x27;ll&quot;,\n",
              "                            &quot;you&#x27;d&quot;, &#x27;your&#x27;, &#x27;yours&#x27;, &#x27;yourself&#x27;, &#x27;yourselves&#x27;,\n",
              "                            &#x27;he&#x27;, &#x27;him&#x27;, &#x27;his&#x27;, &#x27;himself&#x27;, &#x27;she&#x27;, &quot;she&#x27;s&quot;,\n",
              "                            &#x27;her&#x27;, &#x27;hers&#x27;, &#x27;herself&#x27;, &#x27;it&#x27;, &quot;it&#x27;s&quot;, &#x27;its&#x27;,\n",
              "                            &#x27;itself&#x27;, ...],\n",
              "                tokenizer=&lt;function tokenize at 0x7f0f0a300550&gt;)</pre><b>In a Jupyter environment, please rerun this cell to show the HTML representation or trust the notebook. <br />On GitHub, the HTML representation is unable to render, please try loading this page with nbviewer.org.</b></div><div class=\"sk-container\" hidden><div class=\"sk-item\"><div class=\"sk-estimator sk-toggleable\"><input class=\"sk-toggleable__control sk-hidden--visually\" id=\"sk-estimator-id-1\" type=\"checkbox\" checked><label for=\"sk-estimator-id-1\" class=\"sk-toggleable__label sk-toggleable__label-arrow\">TfidfVectorizer</label><div class=\"sk-toggleable__content\"><pre>TfidfVectorizer(max_features=2000, ngram_range=(1, 2),\n",
              "                stop_words=[&#x27;i&#x27;, &#x27;me&#x27;, &#x27;my&#x27;, &#x27;myself&#x27;, &#x27;we&#x27;, &#x27;our&#x27;, &#x27;ours&#x27;,\n",
              "                            &#x27;ourselves&#x27;, &#x27;you&#x27;, &quot;you&#x27;re&quot;, &quot;you&#x27;ve&quot;, &quot;you&#x27;ll&quot;,\n",
              "                            &quot;you&#x27;d&quot;, &#x27;your&#x27;, &#x27;yours&#x27;, &#x27;yourself&#x27;, &#x27;yourselves&#x27;,\n",
              "                            &#x27;he&#x27;, &#x27;him&#x27;, &#x27;his&#x27;, &#x27;himself&#x27;, &#x27;she&#x27;, &quot;she&#x27;s&quot;,\n",
              "                            &#x27;her&#x27;, &#x27;hers&#x27;, &#x27;herself&#x27;, &#x27;it&#x27;, &quot;it&#x27;s&quot;, &#x27;its&#x27;,\n",
              "                            &#x27;itself&#x27;, ...],\n",
              "                tokenizer=&lt;function tokenize at 0x7f0f0a300550&gt;)</pre></div></div></div></div></div>"
            ]
          },
          "metadata": {},
          "execution_count": 25
        }
      ],
      "source": [
        "%%time\n",
        "\n",
        "vectorizer.fit(raw_df.Phrase)"
      ]
    },
    {
      "cell_type": "code",
      "execution_count": 26,
      "metadata": {
        "colab": {
          "base_uri": "https://localhost:8080/"
        },
        "id": "aggX4uwmeswS",
        "outputId": "f02fbcee-8912-4aa5-eb6d-aec312ca1772"
      },
      "outputs": [
        {
          "output_type": "execute_result",
          "data": {
            "text/plain": [
              "2000"
            ]
          },
          "metadata": {},
          "execution_count": 26
        }
      ],
      "source": [
        "len(vectorizer.vocabulary_)"
      ]
    },
    {
      "cell_type": "markdown",
      "metadata": {
        "id": "N83nLs4juO67"
      },
      "source": [
        "### Transform Training & Test Data\n",
        "\n",
        "* Transform phrases from training set\n",
        "* Transform phrases from test set\n",
        "* Look at some example values"
      ]
    },
    {
      "cell_type": "code",
      "execution_count": 27,
      "metadata": {
        "id": "B6WXWiQzuOcX"
      },
      "outputs": [],
      "source": [
        "inputs = vectorizer.transform(raw_df.Phrase)"
      ]
    },
    {
      "cell_type": "code",
      "execution_count": 28,
      "metadata": {
        "colab": {
          "base_uri": "https://localhost:8080/"
        },
        "id": "0BDzHuBbuPSz",
        "outputId": "16c8c9bd-5af3-4c93-dfc2-b86a1def5431"
      },
      "outputs": [
        {
          "output_type": "stream",
          "name": "stdout",
          "text": [
            "Inputs Shape:\n",
            " (156060, 2000)\n",
            "Inputs: \n",
            "   (0, 1672)\t0.21408521714408968\n",
            "  (0, 1526)\t0.30145661993985357\n",
            "  (0, 1198)\t0.3211173167333267\n",
            "  (0, 1172)\t0.32797654561417583\n",
            "  (0, 1132)\t0.23186254293562117\n",
            "  (0, 752)\t0.45518904348233324\n",
            "  (0, 428)\t0.3469546157168364\n",
            "  (0, 67)\t0.2931497881816512\n",
            "  (0, 66)\t0.33022324748049126\n",
            "  (0, 54)\t0.2762018818511685\n"
          ]
        }
      ],
      "source": [
        "print(f\"Inputs Shape:\\n {inputs.shape}\")\n",
        "print(f\"Inputs: \\n {inputs[0][0]}\")"
      ]
    },
    {
      "cell_type": "code",
      "execution_count": 29,
      "metadata": {
        "id": "QLngc6g5yspe"
      },
      "outputs": [],
      "source": [
        "test_inputs = vectorizer.transform(test_df.Phrase)"
      ]
    },
    {
      "cell_type": "markdown",
      "metadata": {
        "id": "TwLM4r3EetEK"
      },
      "source": [
        "## Train Baseline Model & Submit to Kaggle\n",
        "\n",
        "1. Split training and validation sets\n",
        "2. Train logistic regression model\n",
        "3. Study predictions on sample phrases\n",
        "4. Make predictions and submit to Kaggle\n",
        "\n",
        "\n"
      ]
    },
    {
      "cell_type": "markdown",
      "metadata": {
        "id": "NAZkydfs4wrX"
      },
      "source": [
        "### Split Training and Validation Sets\n",
        "\n",
        "Tip: Don't use a random sample for validation set (why?)"
      ]
    },
    {
      "cell_type": "code",
      "execution_count": 30,
      "metadata": {
        "id": "FnALsBHr4aQt"
      },
      "outputs": [],
      "source": [
        "TRAIN_SIZE = 110000"
      ]
    },
    {
      "cell_type": "code",
      "execution_count": 31,
      "metadata": {
        "colab": {
          "base_uri": "https://localhost:8080/"
        },
        "id": "EF8dHyrF4S3R",
        "outputId": "e312a080-44ee-4d7e-845f-3a0287d57592"
      },
      "outputs": [
        {
          "output_type": "execute_result",
          "data": {
            "text/plain": [
              "((110000, 2000), (110000,))"
            ]
          },
          "metadata": {},
          "execution_count": 31
        }
      ],
      "source": [
        "train_inputs = inputs[:TRAIN_SIZE]\n",
        "train_targets = raw_df.Sentiment[:TRAIN_SIZE]\n",
        "\n",
        "train_inputs.shape, train_targets.shape"
      ]
    },
    {
      "cell_type": "code",
      "execution_count": 32,
      "metadata": {
        "colab": {
          "base_uri": "https://localhost:8080/"
        },
        "id": "JXg0N5Tset2n",
        "outputId": "62f41162-3d26-4a83-8775-947ce0186675"
      },
      "outputs": [
        {
          "output_type": "execute_result",
          "data": {
            "text/plain": [
              "((46060, 2000), (46060,))"
            ]
          },
          "metadata": {},
          "execution_count": 32
        }
      ],
      "source": [
        "val_inputs = inputs[TRAIN_SIZE:]\n",
        "val_targets = raw_df.Sentiment[TRAIN_SIZE:]\n",
        "\n",
        "val_inputs.shape, val_targets.shape"
      ]
    },
    {
      "cell_type": "markdown",
      "metadata": {
        "id": "DHoTrGTM5Bo9"
      },
      "source": [
        "### Train Logistic Regression Model\n",
        "\n"
      ]
    },
    {
      "cell_type": "code",
      "execution_count": 33,
      "metadata": {
        "id": "jEHCuRAt7swN"
      },
      "outputs": [],
      "source": [
        "from sklearn.linear_model import LogisticRegression"
      ]
    },
    {
      "cell_type": "code",
      "execution_count": 34,
      "metadata": {
        "id": "7klXZoh-7st2"
      },
      "outputs": [],
      "source": [
        "model1 = LogisticRegression()"
      ]
    },
    {
      "cell_type": "code",
      "execution_count": 35,
      "metadata": {
        "colab": {
          "base_uri": "https://localhost:8080/",
          "height": 217
        },
        "id": "THyNzV9J7srO",
        "outputId": "13c8cf7e-3182-47ac-ebd6-4abaed449aa6"
      },
      "outputs": [
        {
          "output_type": "stream",
          "name": "stderr",
          "text": [
            "/usr/local/lib/python3.10/dist-packages/sklearn/linear_model/_logistic.py:458: ConvergenceWarning: lbfgs failed to converge (status=1):\n",
            "STOP: TOTAL NO. of ITERATIONS REACHED LIMIT.\n",
            "\n",
            "Increase the number of iterations (max_iter) or scale the data as shown in:\n",
            "    https://scikit-learn.org/stable/modules/preprocessing.html\n",
            "Please also refer to the documentation for alternative solver options:\n",
            "    https://scikit-learn.org/stable/modules/linear_model.html#logistic-regression\n",
            "  n_iter_i = _check_optimize_result(\n"
          ]
        },
        {
          "output_type": "execute_result",
          "data": {
            "text/plain": [
              "LogisticRegression()"
            ],
            "text/html": [
              "<style>#sk-container-id-2 {color: black;background-color: white;}#sk-container-id-2 pre{padding: 0;}#sk-container-id-2 div.sk-toggleable {background-color: white;}#sk-container-id-2 label.sk-toggleable__label {cursor: pointer;display: block;width: 100%;margin-bottom: 0;padding: 0.3em;box-sizing: border-box;text-align: center;}#sk-container-id-2 label.sk-toggleable__label-arrow:before {content: \"▸\";float: left;margin-right: 0.25em;color: #696969;}#sk-container-id-2 label.sk-toggleable__label-arrow:hover:before {color: black;}#sk-container-id-2 div.sk-estimator:hover label.sk-toggleable__label-arrow:before {color: black;}#sk-container-id-2 div.sk-toggleable__content {max-height: 0;max-width: 0;overflow: hidden;text-align: left;background-color: #f0f8ff;}#sk-container-id-2 div.sk-toggleable__content pre {margin: 0.2em;color: black;border-radius: 0.25em;background-color: #f0f8ff;}#sk-container-id-2 input.sk-toggleable__control:checked~div.sk-toggleable__content {max-height: 200px;max-width: 100%;overflow: auto;}#sk-container-id-2 input.sk-toggleable__control:checked~label.sk-toggleable__label-arrow:before {content: \"▾\";}#sk-container-id-2 div.sk-estimator input.sk-toggleable__control:checked~label.sk-toggleable__label {background-color: #d4ebff;}#sk-container-id-2 div.sk-label input.sk-toggleable__control:checked~label.sk-toggleable__label {background-color: #d4ebff;}#sk-container-id-2 input.sk-hidden--visually {border: 0;clip: rect(1px 1px 1px 1px);clip: rect(1px, 1px, 1px, 1px);height: 1px;margin: -1px;overflow: hidden;padding: 0;position: absolute;width: 1px;}#sk-container-id-2 div.sk-estimator {font-family: monospace;background-color: #f0f8ff;border: 1px dotted black;border-radius: 0.25em;box-sizing: border-box;margin-bottom: 0.5em;}#sk-container-id-2 div.sk-estimator:hover {background-color: #d4ebff;}#sk-container-id-2 div.sk-parallel-item::after {content: \"\";width: 100%;border-bottom: 1px solid gray;flex-grow: 1;}#sk-container-id-2 div.sk-label:hover label.sk-toggleable__label {background-color: #d4ebff;}#sk-container-id-2 div.sk-serial::before {content: \"\";position: absolute;border-left: 1px solid gray;box-sizing: border-box;top: 0;bottom: 0;left: 50%;z-index: 0;}#sk-container-id-2 div.sk-serial {display: flex;flex-direction: column;align-items: center;background-color: white;padding-right: 0.2em;padding-left: 0.2em;position: relative;}#sk-container-id-2 div.sk-item {position: relative;z-index: 1;}#sk-container-id-2 div.sk-parallel {display: flex;align-items: stretch;justify-content: center;background-color: white;position: relative;}#sk-container-id-2 div.sk-item::before, #sk-container-id-2 div.sk-parallel-item::before {content: \"\";position: absolute;border-left: 1px solid gray;box-sizing: border-box;top: 0;bottom: 0;left: 50%;z-index: -1;}#sk-container-id-2 div.sk-parallel-item {display: flex;flex-direction: column;z-index: 1;position: relative;background-color: white;}#sk-container-id-2 div.sk-parallel-item:first-child::after {align-self: flex-end;width: 50%;}#sk-container-id-2 div.sk-parallel-item:last-child::after {align-self: flex-start;width: 50%;}#sk-container-id-2 div.sk-parallel-item:only-child::after {width: 0;}#sk-container-id-2 div.sk-dashed-wrapped {border: 1px dashed gray;margin: 0 0.4em 0.5em 0.4em;box-sizing: border-box;padding-bottom: 0.4em;background-color: white;}#sk-container-id-2 div.sk-label label {font-family: monospace;font-weight: bold;display: inline-block;line-height: 1.2em;}#sk-container-id-2 div.sk-label-container {text-align: center;}#sk-container-id-2 div.sk-container {/* jupyter's `normalize.less` sets `[hidden] { display: none; }` but bootstrap.min.css set `[hidden] { display: none !important; }` so we also need the `!important` here to be able to override the default hidden behavior on the sphinx rendered scikit-learn.org. See: https://github.com/scikit-learn/scikit-learn/issues/21755 */display: inline-block !important;position: relative;}#sk-container-id-2 div.sk-text-repr-fallback {display: none;}</style><div id=\"sk-container-id-2\" class=\"sk-top-container\"><div class=\"sk-text-repr-fallback\"><pre>LogisticRegression()</pre><b>In a Jupyter environment, please rerun this cell to show the HTML representation or trust the notebook. <br />On GitHub, the HTML representation is unable to render, please try loading this page with nbviewer.org.</b></div><div class=\"sk-container\" hidden><div class=\"sk-item\"><div class=\"sk-estimator sk-toggleable\"><input class=\"sk-toggleable__control sk-hidden--visually\" id=\"sk-estimator-id-2\" type=\"checkbox\" checked><label for=\"sk-estimator-id-2\" class=\"sk-toggleable__label sk-toggleable__label-arrow\">LogisticRegression</label><div class=\"sk-toggleable__content\"><pre>LogisticRegression()</pre></div></div></div></div></div>"
            ]
          },
          "metadata": {},
          "execution_count": 35
        }
      ],
      "source": [
        "model1.fit(train_inputs, train_targets)"
      ]
    },
    {
      "cell_type": "code",
      "execution_count": 36,
      "metadata": {
        "id": "qQ0HAnwP8k1S"
      },
      "outputs": [],
      "source": [
        "from sklearn.metrics import accuracy_score"
      ]
    },
    {
      "cell_type": "code",
      "execution_count": 37,
      "metadata": {
        "id": "TFXjhxfS70Ny"
      },
      "outputs": [],
      "source": [
        "train_preds = model1.predict(train_inputs)"
      ]
    },
    {
      "cell_type": "code",
      "execution_count": 38,
      "metadata": {
        "colab": {
          "base_uri": "https://localhost:8080/"
        },
        "id": "lT_-tby27so2",
        "outputId": "7c893a52-0f2f-4e1f-e53f-5d557e90f7b2"
      },
      "outputs": [
        {
          "output_type": "execute_result",
          "data": {
            "text/plain": [
              "0.6377363636363637"
            ]
          },
          "metadata": {},
          "execution_count": 38
        }
      ],
      "source": [
        "accuracy_score(train_preds, train_targets)"
      ]
    },
    {
      "cell_type": "markdown",
      "metadata": {
        "id": "RS2HgpkL_J0G"
      },
      "source": [
        "### Study Predictions on Sample Inputs"
      ]
    },
    {
      "cell_type": "code",
      "execution_count": 39,
      "metadata": {
        "id": "Kvb-G3EU-3sD"
      },
      "outputs": [],
      "source": [
        "val_preds = model1.predict(val_inputs)"
      ]
    },
    {
      "cell_type": "code",
      "execution_count": 40,
      "metadata": {
        "colab": {
          "base_uri": "https://localhost:8080/"
        },
        "id": "o2YzVk-SE8XP",
        "outputId": "59228723-fb6f-41e8-dc27-d203abef3b06"
      },
      "outputs": [
        {
          "output_type": "execute_result",
          "data": {
            "text/plain": [
              "0.5788753799392097"
            ]
          },
          "metadata": {},
          "execution_count": 40
        }
      ],
      "source": [
        "accuracy_score(val_preds, val_targets)"
      ]
    },
    {
      "cell_type": "code",
      "execution_count": 41,
      "metadata": {
        "id": "VUVKntfpE8sH"
      },
      "outputs": [],
      "source": [
        "from sklearn.model_selection import GridSearchCV"
      ]
    },
    {
      "cell_type": "code",
      "execution_count": 42,
      "metadata": {
        "id": "WmTviSukE83P"
      },
      "outputs": [],
      "source": [
        "lg_params = {\n",
        "    'solver' : [\"newton-cg\", \"sag\", \"saga\", \"lbfgs\"]\n",
        "}"
      ]
    },
    {
      "cell_type": "code",
      "execution_count": 43,
      "metadata": {
        "id": "X5IMM1tiE8_t"
      },
      "outputs": [],
      "source": [
        "grid_lg = LogisticRegression(n_jobs = -1, random_state = 4)"
      ]
    },
    {
      "cell_type": "code",
      "execution_count": 44,
      "metadata": {
        "colab": {
          "base_uri": "https://localhost:8080/",
          "height": 135
        },
        "id": "s46nDY9cE9Id",
        "outputId": "a42eb582-705c-48f9-f3ca-c762dce374cc"
      },
      "outputs": [
        {
          "output_type": "stream",
          "name": "stdout",
          "text": [
            "Fitting 5 folds for each of 4 candidates, totalling 20 fits\n"
          ]
        },
        {
          "output_type": "execute_result",
          "data": {
            "text/plain": [
              "GridSearchCV(cv=5, estimator=LogisticRegression(n_jobs=-1, random_state=4),\n",
              "             n_jobs=-1,\n",
              "             param_grid={'solver': ['newton-cg', 'sag', 'saga', 'lbfgs']},\n",
              "             verbose=2)"
            ],
            "text/html": [
              "<style>#sk-container-id-3 {color: black;background-color: white;}#sk-container-id-3 pre{padding: 0;}#sk-container-id-3 div.sk-toggleable {background-color: white;}#sk-container-id-3 label.sk-toggleable__label {cursor: pointer;display: block;width: 100%;margin-bottom: 0;padding: 0.3em;box-sizing: border-box;text-align: center;}#sk-container-id-3 label.sk-toggleable__label-arrow:before {content: \"▸\";float: left;margin-right: 0.25em;color: #696969;}#sk-container-id-3 label.sk-toggleable__label-arrow:hover:before {color: black;}#sk-container-id-3 div.sk-estimator:hover label.sk-toggleable__label-arrow:before {color: black;}#sk-container-id-3 div.sk-toggleable__content {max-height: 0;max-width: 0;overflow: hidden;text-align: left;background-color: #f0f8ff;}#sk-container-id-3 div.sk-toggleable__content pre {margin: 0.2em;color: black;border-radius: 0.25em;background-color: #f0f8ff;}#sk-container-id-3 input.sk-toggleable__control:checked~div.sk-toggleable__content {max-height: 200px;max-width: 100%;overflow: auto;}#sk-container-id-3 input.sk-toggleable__control:checked~label.sk-toggleable__label-arrow:before {content: \"▾\";}#sk-container-id-3 div.sk-estimator input.sk-toggleable__control:checked~label.sk-toggleable__label {background-color: #d4ebff;}#sk-container-id-3 div.sk-label input.sk-toggleable__control:checked~label.sk-toggleable__label {background-color: #d4ebff;}#sk-container-id-3 input.sk-hidden--visually {border: 0;clip: rect(1px 1px 1px 1px);clip: rect(1px, 1px, 1px, 1px);height: 1px;margin: -1px;overflow: hidden;padding: 0;position: absolute;width: 1px;}#sk-container-id-3 div.sk-estimator {font-family: monospace;background-color: #f0f8ff;border: 1px dotted black;border-radius: 0.25em;box-sizing: border-box;margin-bottom: 0.5em;}#sk-container-id-3 div.sk-estimator:hover {background-color: #d4ebff;}#sk-container-id-3 div.sk-parallel-item::after {content: \"\";width: 100%;border-bottom: 1px solid gray;flex-grow: 1;}#sk-container-id-3 div.sk-label:hover label.sk-toggleable__label {background-color: #d4ebff;}#sk-container-id-3 div.sk-serial::before {content: \"\";position: absolute;border-left: 1px solid gray;box-sizing: border-box;top: 0;bottom: 0;left: 50%;z-index: 0;}#sk-container-id-3 div.sk-serial {display: flex;flex-direction: column;align-items: center;background-color: white;padding-right: 0.2em;padding-left: 0.2em;position: relative;}#sk-container-id-3 div.sk-item {position: relative;z-index: 1;}#sk-container-id-3 div.sk-parallel {display: flex;align-items: stretch;justify-content: center;background-color: white;position: relative;}#sk-container-id-3 div.sk-item::before, #sk-container-id-3 div.sk-parallel-item::before {content: \"\";position: absolute;border-left: 1px solid gray;box-sizing: border-box;top: 0;bottom: 0;left: 50%;z-index: -1;}#sk-container-id-3 div.sk-parallel-item {display: flex;flex-direction: column;z-index: 1;position: relative;background-color: white;}#sk-container-id-3 div.sk-parallel-item:first-child::after {align-self: flex-end;width: 50%;}#sk-container-id-3 div.sk-parallel-item:last-child::after {align-self: flex-start;width: 50%;}#sk-container-id-3 div.sk-parallel-item:only-child::after {width: 0;}#sk-container-id-3 div.sk-dashed-wrapped {border: 1px dashed gray;margin: 0 0.4em 0.5em 0.4em;box-sizing: border-box;padding-bottom: 0.4em;background-color: white;}#sk-container-id-3 div.sk-label label {font-family: monospace;font-weight: bold;display: inline-block;line-height: 1.2em;}#sk-container-id-3 div.sk-label-container {text-align: center;}#sk-container-id-3 div.sk-container {/* jupyter's `normalize.less` sets `[hidden] { display: none; }` but bootstrap.min.css set `[hidden] { display: none !important; }` so we also need the `!important` here to be able to override the default hidden behavior on the sphinx rendered scikit-learn.org. See: https://github.com/scikit-learn/scikit-learn/issues/21755 */display: inline-block !important;position: relative;}#sk-container-id-3 div.sk-text-repr-fallback {display: none;}</style><div id=\"sk-container-id-3\" class=\"sk-top-container\"><div class=\"sk-text-repr-fallback\"><pre>GridSearchCV(cv=5, estimator=LogisticRegression(n_jobs=-1, random_state=4),\n",
              "             n_jobs=-1,\n",
              "             param_grid={&#x27;solver&#x27;: [&#x27;newton-cg&#x27;, &#x27;sag&#x27;, &#x27;saga&#x27;, &#x27;lbfgs&#x27;]},\n",
              "             verbose=2)</pre><b>In a Jupyter environment, please rerun this cell to show the HTML representation or trust the notebook. <br />On GitHub, the HTML representation is unable to render, please try loading this page with nbviewer.org.</b></div><div class=\"sk-container\" hidden><div class=\"sk-item sk-dashed-wrapped\"><div class=\"sk-label-container\"><div class=\"sk-label sk-toggleable\"><input class=\"sk-toggleable__control sk-hidden--visually\" id=\"sk-estimator-id-3\" type=\"checkbox\" ><label for=\"sk-estimator-id-3\" class=\"sk-toggleable__label sk-toggleable__label-arrow\">GridSearchCV</label><div class=\"sk-toggleable__content\"><pre>GridSearchCV(cv=5, estimator=LogisticRegression(n_jobs=-1, random_state=4),\n",
              "             n_jobs=-1,\n",
              "             param_grid={&#x27;solver&#x27;: [&#x27;newton-cg&#x27;, &#x27;sag&#x27;, &#x27;saga&#x27;, &#x27;lbfgs&#x27;]},\n",
              "             verbose=2)</pre></div></div></div><div class=\"sk-parallel\"><div class=\"sk-parallel-item\"><div class=\"sk-item\"><div class=\"sk-label-container\"><div class=\"sk-label sk-toggleable\"><input class=\"sk-toggleable__control sk-hidden--visually\" id=\"sk-estimator-id-4\" type=\"checkbox\" ><label for=\"sk-estimator-id-4\" class=\"sk-toggleable__label sk-toggleable__label-arrow\">estimator: LogisticRegression</label><div class=\"sk-toggleable__content\"><pre>LogisticRegression(n_jobs=-1, random_state=4)</pre></div></div></div><div class=\"sk-serial\"><div class=\"sk-item\"><div class=\"sk-estimator sk-toggleable\"><input class=\"sk-toggleable__control sk-hidden--visually\" id=\"sk-estimator-id-5\" type=\"checkbox\" ><label for=\"sk-estimator-id-5\" class=\"sk-toggleable__label sk-toggleable__label-arrow\">LogisticRegression</label><div class=\"sk-toggleable__content\"><pre>LogisticRegression(n_jobs=-1, random_state=4)</pre></div></div></div></div></div></div></div></div></div></div>"
            ]
          },
          "metadata": {},
          "execution_count": 44
        }
      ],
      "source": [
        "grid_lg_search = GridSearchCV(verbose = 2, cv = 5, n_jobs = -1, estimator = grid_lg, param_grid = lg_params)\n",
        "\n",
        "grid_lg_search.fit(train_inputs, train_targets)"
      ]
    },
    {
      "cell_type": "code",
      "execution_count": 45,
      "metadata": {
        "colab": {
          "base_uri": "https://localhost:8080/",
          "height": 326
        },
        "id": "96pSFU6Q-3m_",
        "outputId": "f507e4ed-4dfc-404e-dd86-2e2f22e8523a"
      },
      "outputs": [
        {
          "output_type": "execute_result",
          "data": {
            "text/plain": [
              "   mean_fit_time  std_fit_time  mean_score_time  std_score_time param_solver  \\\n",
              "0       7.393747      0.728237         0.006254        0.000463    newton-cg   \n",
              "1       2.940565      0.625843         0.005564        0.000794          sag   \n",
              "2       2.953532      0.737652         0.005065        0.000214         saga   \n",
              "3       4.008325      0.798397         0.005405        0.000803        lbfgs   \n",
              "\n",
              "                    params  split0_test_score  split1_test_score  \\\n",
              "0  {'solver': 'newton-cg'}           0.600727           0.589500   \n",
              "1        {'solver': 'sag'}           0.600727           0.589500   \n",
              "2       {'solver': 'saga'}           0.600727           0.589500   \n",
              "3      {'solver': 'lbfgs'}           0.601909           0.589545   \n",
              "\n",
              "   split2_test_score  split3_test_score  split4_test_score  mean_test_score  \\\n",
              "0           0.589091           0.593545           0.595136         0.593600   \n",
              "1           0.589091           0.593545           0.595136         0.593600   \n",
              "2           0.589091           0.593591           0.595136         0.593609   \n",
              "3           0.588545           0.592909           0.594455         0.593473   \n",
              "\n",
              "   std_test_score  rank_test_score  \n",
              "0        0.004250                2  \n",
              "1        0.004250                2  \n",
              "2        0.004250                1  \n",
              "3        0.004736                4  "
            ],
            "text/html": [
              "\n",
              "  <div id=\"df-59e6c290-24b9-4944-8ac8-2e30e1c131a8\">\n",
              "    <div class=\"colab-df-container\">\n",
              "      <div>\n",
              "<style scoped>\n",
              "    .dataframe tbody tr th:only-of-type {\n",
              "        vertical-align: middle;\n",
              "    }\n",
              "\n",
              "    .dataframe tbody tr th {\n",
              "        vertical-align: top;\n",
              "    }\n",
              "\n",
              "    .dataframe thead th {\n",
              "        text-align: right;\n",
              "    }\n",
              "</style>\n",
              "<table border=\"1\" class=\"dataframe\">\n",
              "  <thead>\n",
              "    <tr style=\"text-align: right;\">\n",
              "      <th></th>\n",
              "      <th>mean_fit_time</th>\n",
              "      <th>std_fit_time</th>\n",
              "      <th>mean_score_time</th>\n",
              "      <th>std_score_time</th>\n",
              "      <th>param_solver</th>\n",
              "      <th>params</th>\n",
              "      <th>split0_test_score</th>\n",
              "      <th>split1_test_score</th>\n",
              "      <th>split2_test_score</th>\n",
              "      <th>split3_test_score</th>\n",
              "      <th>split4_test_score</th>\n",
              "      <th>mean_test_score</th>\n",
              "      <th>std_test_score</th>\n",
              "      <th>rank_test_score</th>\n",
              "    </tr>\n",
              "  </thead>\n",
              "  <tbody>\n",
              "    <tr>\n",
              "      <th>0</th>\n",
              "      <td>7.393747</td>\n",
              "      <td>0.728237</td>\n",
              "      <td>0.006254</td>\n",
              "      <td>0.000463</td>\n",
              "      <td>newton-cg</td>\n",
              "      <td>{'solver': 'newton-cg'}</td>\n",
              "      <td>0.600727</td>\n",
              "      <td>0.589500</td>\n",
              "      <td>0.589091</td>\n",
              "      <td>0.593545</td>\n",
              "      <td>0.595136</td>\n",
              "      <td>0.593600</td>\n",
              "      <td>0.004250</td>\n",
              "      <td>2</td>\n",
              "    </tr>\n",
              "    <tr>\n",
              "      <th>1</th>\n",
              "      <td>2.940565</td>\n",
              "      <td>0.625843</td>\n",
              "      <td>0.005564</td>\n",
              "      <td>0.000794</td>\n",
              "      <td>sag</td>\n",
              "      <td>{'solver': 'sag'}</td>\n",
              "      <td>0.600727</td>\n",
              "      <td>0.589500</td>\n",
              "      <td>0.589091</td>\n",
              "      <td>0.593545</td>\n",
              "      <td>0.595136</td>\n",
              "      <td>0.593600</td>\n",
              "      <td>0.004250</td>\n",
              "      <td>2</td>\n",
              "    </tr>\n",
              "    <tr>\n",
              "      <th>2</th>\n",
              "      <td>2.953532</td>\n",
              "      <td>0.737652</td>\n",
              "      <td>0.005065</td>\n",
              "      <td>0.000214</td>\n",
              "      <td>saga</td>\n",
              "      <td>{'solver': 'saga'}</td>\n",
              "      <td>0.600727</td>\n",
              "      <td>0.589500</td>\n",
              "      <td>0.589091</td>\n",
              "      <td>0.593591</td>\n",
              "      <td>0.595136</td>\n",
              "      <td>0.593609</td>\n",
              "      <td>0.004250</td>\n",
              "      <td>1</td>\n",
              "    </tr>\n",
              "    <tr>\n",
              "      <th>3</th>\n",
              "      <td>4.008325</td>\n",
              "      <td>0.798397</td>\n",
              "      <td>0.005405</td>\n",
              "      <td>0.000803</td>\n",
              "      <td>lbfgs</td>\n",
              "      <td>{'solver': 'lbfgs'}</td>\n",
              "      <td>0.601909</td>\n",
              "      <td>0.589545</td>\n",
              "      <td>0.588545</td>\n",
              "      <td>0.592909</td>\n",
              "      <td>0.594455</td>\n",
              "      <td>0.593473</td>\n",
              "      <td>0.004736</td>\n",
              "      <td>4</td>\n",
              "    </tr>\n",
              "  </tbody>\n",
              "</table>\n",
              "</div>\n",
              "      <button class=\"colab-df-convert\" onclick=\"convertToInteractive('df-59e6c290-24b9-4944-8ac8-2e30e1c131a8')\"\n",
              "              title=\"Convert this dataframe to an interactive table.\"\n",
              "              style=\"display:none;\">\n",
              "        \n",
              "  <svg xmlns=\"http://www.w3.org/2000/svg\" height=\"24px\"viewBox=\"0 0 24 24\"\n",
              "       width=\"24px\">\n",
              "    <path d=\"M0 0h24v24H0V0z\" fill=\"none\"/>\n",
              "    <path d=\"M18.56 5.44l.94 2.06.94-2.06 2.06-.94-2.06-.94-.94-2.06-.94 2.06-2.06.94zm-11 1L8.5 8.5l.94-2.06 2.06-.94-2.06-.94L8.5 2.5l-.94 2.06-2.06.94zm10 10l.94 2.06.94-2.06 2.06-.94-2.06-.94-.94-2.06-.94 2.06-2.06.94z\"/><path d=\"M17.41 7.96l-1.37-1.37c-.4-.4-.92-.59-1.43-.59-.52 0-1.04.2-1.43.59L10.3 9.45l-7.72 7.72c-.78.78-.78 2.05 0 2.83L4 21.41c.39.39.9.59 1.41.59.51 0 1.02-.2 1.41-.59l7.78-7.78 2.81-2.81c.8-.78.8-2.07 0-2.86zM5.41 20L4 18.59l7.72-7.72 1.47 1.35L5.41 20z\"/>\n",
              "  </svg>\n",
              "      </button>\n",
              "      \n",
              "  <style>\n",
              "    .colab-df-container {\n",
              "      display:flex;\n",
              "      flex-wrap:wrap;\n",
              "      gap: 12px;\n",
              "    }\n",
              "\n",
              "    .colab-df-convert {\n",
              "      background-color: #E8F0FE;\n",
              "      border: none;\n",
              "      border-radius: 50%;\n",
              "      cursor: pointer;\n",
              "      display: none;\n",
              "      fill: #1967D2;\n",
              "      height: 32px;\n",
              "      padding: 0 0 0 0;\n",
              "      width: 32px;\n",
              "    }\n",
              "\n",
              "    .colab-df-convert:hover {\n",
              "      background-color: #E2EBFA;\n",
              "      box-shadow: 0px 1px 2px rgba(60, 64, 67, 0.3), 0px 1px 3px 1px rgba(60, 64, 67, 0.15);\n",
              "      fill: #174EA6;\n",
              "    }\n",
              "\n",
              "    [theme=dark] .colab-df-convert {\n",
              "      background-color: #3B4455;\n",
              "      fill: #D2E3FC;\n",
              "    }\n",
              "\n",
              "    [theme=dark] .colab-df-convert:hover {\n",
              "      background-color: #434B5C;\n",
              "      box-shadow: 0px 1px 3px 1px rgba(0, 0, 0, 0.15);\n",
              "      filter: drop-shadow(0px 1px 2px rgba(0, 0, 0, 0.3));\n",
              "      fill: #FFFFFF;\n",
              "    }\n",
              "  </style>\n",
              "\n",
              "      <script>\n",
              "        const buttonEl =\n",
              "          document.querySelector('#df-59e6c290-24b9-4944-8ac8-2e30e1c131a8 button.colab-df-convert');\n",
              "        buttonEl.style.display =\n",
              "          google.colab.kernel.accessAllowed ? 'block' : 'none';\n",
              "\n",
              "        async function convertToInteractive(key) {\n",
              "          const element = document.querySelector('#df-59e6c290-24b9-4944-8ac8-2e30e1c131a8');\n",
              "          const dataTable =\n",
              "            await google.colab.kernel.invokeFunction('convertToInteractive',\n",
              "                                                     [key], {});\n",
              "          if (!dataTable) return;\n",
              "\n",
              "          const docLinkHtml = 'Like what you see? Visit the ' +\n",
              "            '<a target=\"_blank\" href=https://colab.research.google.com/notebooks/data_table.ipynb>data table notebook</a>'\n",
              "            + ' to learn more about interactive tables.';\n",
              "          element.innerHTML = '';\n",
              "          dataTable['output_type'] = 'display_data';\n",
              "          await google.colab.output.renderOutput(dataTable, element);\n",
              "          const docLink = document.createElement('div');\n",
              "          docLink.innerHTML = docLinkHtml;\n",
              "          element.appendChild(docLink);\n",
              "        }\n",
              "      </script>\n",
              "    </div>\n",
              "  </div>\n",
              "  "
            ]
          },
          "metadata": {},
          "execution_count": 45
        }
      ],
      "source": [
        "pd.DataFrame(grid_lg_search.cv_results_)"
      ]
    },
    {
      "cell_type": "code",
      "execution_count": 46,
      "metadata": {
        "colab": {
          "base_uri": "https://localhost:8080/"
        },
        "id": "FRlyVDpu_ARh",
        "outputId": "8c077c76-38f7-49a9-ad11-e0162fb88a42"
      },
      "outputs": [
        {
          "output_type": "execute_result",
          "data": {
            "text/plain": [
              "0.593609090909091"
            ]
          },
          "metadata": {},
          "execution_count": 46
        }
      ],
      "source": [
        "grid_lg_search.best_score_"
      ]
    },
    {
      "cell_type": "code",
      "execution_count": 47,
      "metadata": {
        "id": "SVX3fbskDyGs"
      },
      "outputs": [],
      "source": [
        "final_lg_model = grid_lg_search.best_estimator_"
      ]
    },
    {
      "cell_type": "code",
      "execution_count": 48,
      "metadata": {
        "colab": {
          "base_uri": "https://localhost:8080/"
        },
        "id": "uUgkh-zfD1HI",
        "outputId": "31eeddbb-3050-40a7-9560-1ea7f9a561e2"
      },
      "outputs": [
        {
          "output_type": "execute_result",
          "data": {
            "text/plain": [
              "0.6388818181818182"
            ]
          },
          "metadata": {},
          "execution_count": 48
        }
      ],
      "source": [
        "accuracy_score(final_lg_model.predict(train_inputs), train_targets)"
      ]
    },
    {
      "cell_type": "code",
      "execution_count": 49,
      "metadata": {
        "colab": {
          "base_uri": "https://localhost:8080/"
        },
        "id": "urtcbsfd_AO0",
        "outputId": "796c9c20-e1a0-4858-85b9-fbc97ca094ed"
      },
      "outputs": [
        {
          "output_type": "execute_result",
          "data": {
            "text/plain": [
              "0.579244463742944"
            ]
          },
          "metadata": {},
          "execution_count": 49
        }
      ],
      "source": [
        "accuracy_score(final_lg_model.predict(val_inputs), val_targets)"
      ]
    },
    {
      "cell_type": "markdown",
      "metadata": {
        "id": "HkiqfeBneyth"
      },
      "source": [
        "### Make Predictions & Submit to Kaggle\n",
        "\n",
        "1. Make predictions on Test Dataset\n",
        "2. Generate & submit CSV on Kaggle\n",
        "3. Add screenshot of your score\n",
        "\n"
      ]
    },
    {
      "cell_type": "code",
      "execution_count": 50,
      "metadata": {
        "colab": {
          "base_uri": "https://localhost:8080/"
        },
        "id": "IL7tpnJyIQMW",
        "outputId": "42734059-b483-4efd-b13f-07d41b77f069"
      },
      "outputs": [
        {
          "output_type": "execute_result",
          "data": {
            "text/plain": [
              "<66292x2000 sparse matrix of type '<class 'numpy.float64'>'\n",
              "\twith 181288 stored elements in Compressed Sparse Row format>"
            ]
          },
          "metadata": {},
          "execution_count": 50
        }
      ],
      "source": [
        "test_inputs"
      ]
    },
    {
      "cell_type": "code",
      "execution_count": 51,
      "metadata": {
        "id": "jz8W9Nnce31g"
      },
      "outputs": [],
      "source": [
        "test_preds = final_lg_model.predict(test_inputs)"
      ]
    },
    {
      "cell_type": "code",
      "execution_count": 52,
      "metadata": {
        "colab": {
          "base_uri": "https://localhost:8080/",
          "height": 424
        },
        "id": "RHfHJcBae4e3",
        "outputId": "41106684-cab7-4226-d2ee-927175ddbad8"
      },
      "outputs": [
        {
          "output_type": "execute_result",
          "data": {
            "text/plain": [
              "       PhraseId  Sentiment\n",
              "0        156061          2\n",
              "1        156062          2\n",
              "2        156063          2\n",
              "3        156064          2\n",
              "4        156065          2\n",
              "...         ...        ...\n",
              "66287    222348          2\n",
              "66288    222349          2\n",
              "66289    222350          2\n",
              "66290    222351          2\n",
              "66291    222352          2\n",
              "\n",
              "[66292 rows x 2 columns]"
            ],
            "text/html": [
              "\n",
              "  <div id=\"df-d5531fe7-9ecf-4321-87e6-e90a2f24c02e\">\n",
              "    <div class=\"colab-df-container\">\n",
              "      <div>\n",
              "<style scoped>\n",
              "    .dataframe tbody tr th:only-of-type {\n",
              "        vertical-align: middle;\n",
              "    }\n",
              "\n",
              "    .dataframe tbody tr th {\n",
              "        vertical-align: top;\n",
              "    }\n",
              "\n",
              "    .dataframe thead th {\n",
              "        text-align: right;\n",
              "    }\n",
              "</style>\n",
              "<table border=\"1\" class=\"dataframe\">\n",
              "  <thead>\n",
              "    <tr style=\"text-align: right;\">\n",
              "      <th></th>\n",
              "      <th>PhraseId</th>\n",
              "      <th>Sentiment</th>\n",
              "    </tr>\n",
              "  </thead>\n",
              "  <tbody>\n",
              "    <tr>\n",
              "      <th>0</th>\n",
              "      <td>156061</td>\n",
              "      <td>2</td>\n",
              "    </tr>\n",
              "    <tr>\n",
              "      <th>1</th>\n",
              "      <td>156062</td>\n",
              "      <td>2</td>\n",
              "    </tr>\n",
              "    <tr>\n",
              "      <th>2</th>\n",
              "      <td>156063</td>\n",
              "      <td>2</td>\n",
              "    </tr>\n",
              "    <tr>\n",
              "      <th>3</th>\n",
              "      <td>156064</td>\n",
              "      <td>2</td>\n",
              "    </tr>\n",
              "    <tr>\n",
              "      <th>4</th>\n",
              "      <td>156065</td>\n",
              "      <td>2</td>\n",
              "    </tr>\n",
              "    <tr>\n",
              "      <th>...</th>\n",
              "      <td>...</td>\n",
              "      <td>...</td>\n",
              "    </tr>\n",
              "    <tr>\n",
              "      <th>66287</th>\n",
              "      <td>222348</td>\n",
              "      <td>2</td>\n",
              "    </tr>\n",
              "    <tr>\n",
              "      <th>66288</th>\n",
              "      <td>222349</td>\n",
              "      <td>2</td>\n",
              "    </tr>\n",
              "    <tr>\n",
              "      <th>66289</th>\n",
              "      <td>222350</td>\n",
              "      <td>2</td>\n",
              "    </tr>\n",
              "    <tr>\n",
              "      <th>66290</th>\n",
              "      <td>222351</td>\n",
              "      <td>2</td>\n",
              "    </tr>\n",
              "    <tr>\n",
              "      <th>66291</th>\n",
              "      <td>222352</td>\n",
              "      <td>2</td>\n",
              "    </tr>\n",
              "  </tbody>\n",
              "</table>\n",
              "<p>66292 rows × 2 columns</p>\n",
              "</div>\n",
              "      <button class=\"colab-df-convert\" onclick=\"convertToInteractive('df-d5531fe7-9ecf-4321-87e6-e90a2f24c02e')\"\n",
              "              title=\"Convert this dataframe to an interactive table.\"\n",
              "              style=\"display:none;\">\n",
              "        \n",
              "  <svg xmlns=\"http://www.w3.org/2000/svg\" height=\"24px\"viewBox=\"0 0 24 24\"\n",
              "       width=\"24px\">\n",
              "    <path d=\"M0 0h24v24H0V0z\" fill=\"none\"/>\n",
              "    <path d=\"M18.56 5.44l.94 2.06.94-2.06 2.06-.94-2.06-.94-.94-2.06-.94 2.06-2.06.94zm-11 1L8.5 8.5l.94-2.06 2.06-.94-2.06-.94L8.5 2.5l-.94 2.06-2.06.94zm10 10l.94 2.06.94-2.06 2.06-.94-2.06-.94-.94-2.06-.94 2.06-2.06.94z\"/><path d=\"M17.41 7.96l-1.37-1.37c-.4-.4-.92-.59-1.43-.59-.52 0-1.04.2-1.43.59L10.3 9.45l-7.72 7.72c-.78.78-.78 2.05 0 2.83L4 21.41c.39.39.9.59 1.41.59.51 0 1.02-.2 1.41-.59l7.78-7.78 2.81-2.81c.8-.78.8-2.07 0-2.86zM5.41 20L4 18.59l7.72-7.72 1.47 1.35L5.41 20z\"/>\n",
              "  </svg>\n",
              "      </button>\n",
              "      \n",
              "  <style>\n",
              "    .colab-df-container {\n",
              "      display:flex;\n",
              "      flex-wrap:wrap;\n",
              "      gap: 12px;\n",
              "    }\n",
              "\n",
              "    .colab-df-convert {\n",
              "      background-color: #E8F0FE;\n",
              "      border: none;\n",
              "      border-radius: 50%;\n",
              "      cursor: pointer;\n",
              "      display: none;\n",
              "      fill: #1967D2;\n",
              "      height: 32px;\n",
              "      padding: 0 0 0 0;\n",
              "      width: 32px;\n",
              "    }\n",
              "\n",
              "    .colab-df-convert:hover {\n",
              "      background-color: #E2EBFA;\n",
              "      box-shadow: 0px 1px 2px rgba(60, 64, 67, 0.3), 0px 1px 3px 1px rgba(60, 64, 67, 0.15);\n",
              "      fill: #174EA6;\n",
              "    }\n",
              "\n",
              "    [theme=dark] .colab-df-convert {\n",
              "      background-color: #3B4455;\n",
              "      fill: #D2E3FC;\n",
              "    }\n",
              "\n",
              "    [theme=dark] .colab-df-convert:hover {\n",
              "      background-color: #434B5C;\n",
              "      box-shadow: 0px 1px 3px 1px rgba(0, 0, 0, 0.15);\n",
              "      filter: drop-shadow(0px 1px 2px rgba(0, 0, 0, 0.3));\n",
              "      fill: #FFFFFF;\n",
              "    }\n",
              "  </style>\n",
              "\n",
              "      <script>\n",
              "        const buttonEl =\n",
              "          document.querySelector('#df-d5531fe7-9ecf-4321-87e6-e90a2f24c02e button.colab-df-convert');\n",
              "        buttonEl.style.display =\n",
              "          google.colab.kernel.accessAllowed ? 'block' : 'none';\n",
              "\n",
              "        async function convertToInteractive(key) {\n",
              "          const element = document.querySelector('#df-d5531fe7-9ecf-4321-87e6-e90a2f24c02e');\n",
              "          const dataTable =\n",
              "            await google.colab.kernel.invokeFunction('convertToInteractive',\n",
              "                                                     [key], {});\n",
              "          if (!dataTable) return;\n",
              "\n",
              "          const docLinkHtml = 'Like what you see? Visit the ' +\n",
              "            '<a target=\"_blank\" href=https://colab.research.google.com/notebooks/data_table.ipynb>data table notebook</a>'\n",
              "            + ' to learn more about interactive tables.';\n",
              "          element.innerHTML = '';\n",
              "          dataTable['output_type'] = 'display_data';\n",
              "          await google.colab.output.renderOutput(dataTable, element);\n",
              "          const docLink = document.createElement('div');\n",
              "          docLink.innerHTML = docLinkHtml;\n",
              "          element.appendChild(docLink);\n",
              "        }\n",
              "      </script>\n",
              "    </div>\n",
              "  </div>\n",
              "  "
            ]
          },
          "metadata": {},
          "execution_count": 52
        }
      ],
      "source": [
        "sub_df"
      ]
    },
    {
      "cell_type": "code",
      "execution_count": 53,
      "metadata": {
        "colab": {
          "base_uri": "https://localhost:8080/"
        },
        "id": "JZ1urPNme4bo",
        "outputId": "03f340ed-4497-4904-ef19-b40f092af3e8"
      },
      "outputs": [
        {
          "output_type": "execute_result",
          "data": {
            "text/plain": [
              "array([3, 3, 2, ..., 2, 2, 1])"
            ]
          },
          "metadata": {},
          "execution_count": 53
        }
      ],
      "source": [
        "test_preds"
      ]
    },
    {
      "cell_type": "code",
      "execution_count": 54,
      "metadata": {
        "id": "MHUHTmYxEHcV"
      },
      "outputs": [],
      "source": [
        "sub_df.Sentiment = test_preds"
      ]
    },
    {
      "cell_type": "code",
      "execution_count": 55,
      "metadata": {
        "id": "HOTojNcWEHZ7"
      },
      "outputs": [],
      "source": [
        "sub_df.to_csv('LogRegSubmission.csv', index = None)"
      ]
    },
    {
      "cell_type": "markdown",
      "metadata": {
        "id": "8kne2rQq8qL0"
      },
      "source": [
        "## Train & Finetune Different ML Models\n",
        "\n",
        "Train & finetune at least 2 other types of models\n",
        "\n",
        "Models to try:\n",
        "- Decision Trees\n",
        "- Random Forests\n",
        "- Gradient Boosting\n",
        "- Naive Bayes\n",
        "- SVM\n",
        "\n",
        "Optional:\n",
        "* Use PCA for dimensionality reduction\n",
        "* Compare classification vs regression models\n",
        "\n",
        "\n",
        "Tips:\n",
        "\n",
        "- If using a regression model, make sure to round predictions to integer and clip to the range `[1,5]`\n",
        "- Track your progress in a copy of [this experiment tracking spreadsheet](https://docs.google.com/spreadsheets/d/1X-tifxAOAYeIA2J32hBGP5B0MPnZy_o-zOz1NbS-1Ig/edit?usp=sharing)\n"
      ]
    },
    {
      "cell_type": "markdown",
      "metadata": {
        "id": "ObCoyi7l-Szu"
      },
      "source": [
        "### Model 1 Random Forest"
      ]
    },
    {
      "cell_type": "code",
      "execution_count": 56,
      "metadata": {
        "id": "kN-yZN12e4Yz"
      },
      "outputs": [],
      "source": [
        "from sklearn.ensemble import RandomForestClassifier"
      ]
    },
    {
      "cell_type": "code",
      "execution_count": 57,
      "metadata": {
        "id": "X8f6t6wge4WV"
      },
      "outputs": [],
      "source": [
        "model2 = RandomForestClassifier(n_jobs = -1, random_state = 4, max_features = 'log2', criterion = 'entropy')"
      ]
    },
    {
      "cell_type": "code",
      "execution_count": 58,
      "metadata": {
        "colab": {
          "base_uri": "https://localhost:8080/",
          "height": 92
        },
        "id": "_Vyxm7aFJOau",
        "outputId": "1580872d-2658-4b4a-b8c6-ac118397c657"
      },
      "outputs": [
        {
          "output_type": "execute_result",
          "data": {
            "text/plain": [
              "RandomForestClassifier(criterion='entropy', max_features='log2', n_jobs=-1,\n",
              "                       random_state=4)"
            ],
            "text/html": [
              "<style>#sk-container-id-4 {color: black;background-color: white;}#sk-container-id-4 pre{padding: 0;}#sk-container-id-4 div.sk-toggleable {background-color: white;}#sk-container-id-4 label.sk-toggleable__label {cursor: pointer;display: block;width: 100%;margin-bottom: 0;padding: 0.3em;box-sizing: border-box;text-align: center;}#sk-container-id-4 label.sk-toggleable__label-arrow:before {content: \"▸\";float: left;margin-right: 0.25em;color: #696969;}#sk-container-id-4 label.sk-toggleable__label-arrow:hover:before {color: black;}#sk-container-id-4 div.sk-estimator:hover label.sk-toggleable__label-arrow:before {color: black;}#sk-container-id-4 div.sk-toggleable__content {max-height: 0;max-width: 0;overflow: hidden;text-align: left;background-color: #f0f8ff;}#sk-container-id-4 div.sk-toggleable__content pre {margin: 0.2em;color: black;border-radius: 0.25em;background-color: #f0f8ff;}#sk-container-id-4 input.sk-toggleable__control:checked~div.sk-toggleable__content {max-height: 200px;max-width: 100%;overflow: auto;}#sk-container-id-4 input.sk-toggleable__control:checked~label.sk-toggleable__label-arrow:before {content: \"▾\";}#sk-container-id-4 div.sk-estimator input.sk-toggleable__control:checked~label.sk-toggleable__label {background-color: #d4ebff;}#sk-container-id-4 div.sk-label input.sk-toggleable__control:checked~label.sk-toggleable__label {background-color: #d4ebff;}#sk-container-id-4 input.sk-hidden--visually {border: 0;clip: rect(1px 1px 1px 1px);clip: rect(1px, 1px, 1px, 1px);height: 1px;margin: -1px;overflow: hidden;padding: 0;position: absolute;width: 1px;}#sk-container-id-4 div.sk-estimator {font-family: monospace;background-color: #f0f8ff;border: 1px dotted black;border-radius: 0.25em;box-sizing: border-box;margin-bottom: 0.5em;}#sk-container-id-4 div.sk-estimator:hover {background-color: #d4ebff;}#sk-container-id-4 div.sk-parallel-item::after {content: \"\";width: 100%;border-bottom: 1px solid gray;flex-grow: 1;}#sk-container-id-4 div.sk-label:hover label.sk-toggleable__label {background-color: #d4ebff;}#sk-container-id-4 div.sk-serial::before {content: \"\";position: absolute;border-left: 1px solid gray;box-sizing: border-box;top: 0;bottom: 0;left: 50%;z-index: 0;}#sk-container-id-4 div.sk-serial {display: flex;flex-direction: column;align-items: center;background-color: white;padding-right: 0.2em;padding-left: 0.2em;position: relative;}#sk-container-id-4 div.sk-item {position: relative;z-index: 1;}#sk-container-id-4 div.sk-parallel {display: flex;align-items: stretch;justify-content: center;background-color: white;position: relative;}#sk-container-id-4 div.sk-item::before, #sk-container-id-4 div.sk-parallel-item::before {content: \"\";position: absolute;border-left: 1px solid gray;box-sizing: border-box;top: 0;bottom: 0;left: 50%;z-index: -1;}#sk-container-id-4 div.sk-parallel-item {display: flex;flex-direction: column;z-index: 1;position: relative;background-color: white;}#sk-container-id-4 div.sk-parallel-item:first-child::after {align-self: flex-end;width: 50%;}#sk-container-id-4 div.sk-parallel-item:last-child::after {align-self: flex-start;width: 50%;}#sk-container-id-4 div.sk-parallel-item:only-child::after {width: 0;}#sk-container-id-4 div.sk-dashed-wrapped {border: 1px dashed gray;margin: 0 0.4em 0.5em 0.4em;box-sizing: border-box;padding-bottom: 0.4em;background-color: white;}#sk-container-id-4 div.sk-label label {font-family: monospace;font-weight: bold;display: inline-block;line-height: 1.2em;}#sk-container-id-4 div.sk-label-container {text-align: center;}#sk-container-id-4 div.sk-container {/* jupyter's `normalize.less` sets `[hidden] { display: none; }` but bootstrap.min.css set `[hidden] { display: none !important; }` so we also need the `!important` here to be able to override the default hidden behavior on the sphinx rendered scikit-learn.org. See: https://github.com/scikit-learn/scikit-learn/issues/21755 */display: inline-block !important;position: relative;}#sk-container-id-4 div.sk-text-repr-fallback {display: none;}</style><div id=\"sk-container-id-4\" class=\"sk-top-container\"><div class=\"sk-text-repr-fallback\"><pre>RandomForestClassifier(criterion=&#x27;entropy&#x27;, max_features=&#x27;log2&#x27;, n_jobs=-1,\n",
              "                       random_state=4)</pre><b>In a Jupyter environment, please rerun this cell to show the HTML representation or trust the notebook. <br />On GitHub, the HTML representation is unable to render, please try loading this page with nbviewer.org.</b></div><div class=\"sk-container\" hidden><div class=\"sk-item\"><div class=\"sk-estimator sk-toggleable\"><input class=\"sk-toggleable__control sk-hidden--visually\" id=\"sk-estimator-id-6\" type=\"checkbox\" checked><label for=\"sk-estimator-id-6\" class=\"sk-toggleable__label sk-toggleable__label-arrow\">RandomForestClassifier</label><div class=\"sk-toggleable__content\"><pre>RandomForestClassifier(criterion=&#x27;entropy&#x27;, max_features=&#x27;log2&#x27;, n_jobs=-1,\n",
              "                       random_state=4)</pre></div></div></div></div></div>"
            ]
          },
          "metadata": {},
          "execution_count": 58
        }
      ],
      "source": [
        "model2.fit(train_inputs, train_targets)"
      ]
    },
    {
      "cell_type": "code",
      "execution_count": 59,
      "metadata": {
        "colab": {
          "base_uri": "https://localhost:8080/"
        },
        "id": "Du4GngU9JOYH",
        "outputId": "da9806ef-5c2e-44ee-d564-6595c82679f6"
      },
      "outputs": [
        {
          "output_type": "execute_result",
          "data": {
            "text/plain": [
              "0.7898818181818181"
            ]
          },
          "metadata": {},
          "execution_count": 59
        }
      ],
      "source": [
        "accuracy_score(model2.predict(train_inputs), train_targets)"
      ]
    },
    {
      "cell_type": "code",
      "execution_count": 60,
      "metadata": {
        "colab": {
          "base_uri": "https://localhost:8080/"
        },
        "id": "rq5Sy65HJOVV",
        "outputId": "7658a76c-d478-4e9f-a1b6-885899bc426d"
      },
      "outputs": [
        {
          "output_type": "execute_result",
          "data": {
            "text/plain": [
              "0.5597264437689969"
            ]
          },
          "metadata": {},
          "execution_count": 60
        }
      ],
      "source": [
        "accuracy_score(model2.predict(val_inputs), val_targets)"
      ]
    },
    {
      "cell_type": "code",
      "execution_count": 61,
      "metadata": {
        "id": "GFqsWaERaofr"
      },
      "outputs": [],
      "source": [
        "test_preds = model2.predict(test_inputs)\n",
        "\n",
        "sub_df.Sentiment = test_preds\n",
        "\n",
        "sub_df.to_csv('RandomForestSubmission.csv', index = None)"
      ]
    },
    {
      "cell_type": "markdown",
      "metadata": {
        "id": "ewoiYmCyAmuZ",
        "outputId": "7a98660c-5c53-4177-9646-377081671071"
      },
      "source": [
        "### Model 2 Naive Bayes"
      ]
    },
    {
      "cell_type": "code",
      "execution_count": 62,
      "metadata": {
        "id": "1Uq-qqg8TTSt"
      },
      "outputs": [],
      "source": [
        "from sklearn.svm import SVC"
      ]
    },
    {
      "cell_type": "code",
      "execution_count": 63,
      "metadata": {
        "id": "6nCJm-ylTTPq"
      },
      "outputs": [],
      "source": [
        "model3 = SVC(kernel = 'poly', random_state = 4)"
      ]
    },
    {
      "cell_type": "code",
      "execution_count": 64,
      "metadata": {
        "id": "DBP6woCpTTMZ",
        "colab": {
          "base_uri": "https://localhost:8080/",
          "height": 75
        },
        "outputId": "869f6570-2f44-48ab-d8da-e8ec0e928ea8"
      },
      "outputs": [
        {
          "output_type": "execute_result",
          "data": {
            "text/plain": [
              "SVC(kernel='poly', random_state=4)"
            ],
            "text/html": [
              "<style>#sk-container-id-5 {color: black;background-color: white;}#sk-container-id-5 pre{padding: 0;}#sk-container-id-5 div.sk-toggleable {background-color: white;}#sk-container-id-5 label.sk-toggleable__label {cursor: pointer;display: block;width: 100%;margin-bottom: 0;padding: 0.3em;box-sizing: border-box;text-align: center;}#sk-container-id-5 label.sk-toggleable__label-arrow:before {content: \"▸\";float: left;margin-right: 0.25em;color: #696969;}#sk-container-id-5 label.sk-toggleable__label-arrow:hover:before {color: black;}#sk-container-id-5 div.sk-estimator:hover label.sk-toggleable__label-arrow:before {color: black;}#sk-container-id-5 div.sk-toggleable__content {max-height: 0;max-width: 0;overflow: hidden;text-align: left;background-color: #f0f8ff;}#sk-container-id-5 div.sk-toggleable__content pre {margin: 0.2em;color: black;border-radius: 0.25em;background-color: #f0f8ff;}#sk-container-id-5 input.sk-toggleable__control:checked~div.sk-toggleable__content {max-height: 200px;max-width: 100%;overflow: auto;}#sk-container-id-5 input.sk-toggleable__control:checked~label.sk-toggleable__label-arrow:before {content: \"▾\";}#sk-container-id-5 div.sk-estimator input.sk-toggleable__control:checked~label.sk-toggleable__label {background-color: #d4ebff;}#sk-container-id-5 div.sk-label input.sk-toggleable__control:checked~label.sk-toggleable__label {background-color: #d4ebff;}#sk-container-id-5 input.sk-hidden--visually {border: 0;clip: rect(1px 1px 1px 1px);clip: rect(1px, 1px, 1px, 1px);height: 1px;margin: -1px;overflow: hidden;padding: 0;position: absolute;width: 1px;}#sk-container-id-5 div.sk-estimator {font-family: monospace;background-color: #f0f8ff;border: 1px dotted black;border-radius: 0.25em;box-sizing: border-box;margin-bottom: 0.5em;}#sk-container-id-5 div.sk-estimator:hover {background-color: #d4ebff;}#sk-container-id-5 div.sk-parallel-item::after {content: \"\";width: 100%;border-bottom: 1px solid gray;flex-grow: 1;}#sk-container-id-5 div.sk-label:hover label.sk-toggleable__label {background-color: #d4ebff;}#sk-container-id-5 div.sk-serial::before {content: \"\";position: absolute;border-left: 1px solid gray;box-sizing: border-box;top: 0;bottom: 0;left: 50%;z-index: 0;}#sk-container-id-5 div.sk-serial {display: flex;flex-direction: column;align-items: center;background-color: white;padding-right: 0.2em;padding-left: 0.2em;position: relative;}#sk-container-id-5 div.sk-item {position: relative;z-index: 1;}#sk-container-id-5 div.sk-parallel {display: flex;align-items: stretch;justify-content: center;background-color: white;position: relative;}#sk-container-id-5 div.sk-item::before, #sk-container-id-5 div.sk-parallel-item::before {content: \"\";position: absolute;border-left: 1px solid gray;box-sizing: border-box;top: 0;bottom: 0;left: 50%;z-index: -1;}#sk-container-id-5 div.sk-parallel-item {display: flex;flex-direction: column;z-index: 1;position: relative;background-color: white;}#sk-container-id-5 div.sk-parallel-item:first-child::after {align-self: flex-end;width: 50%;}#sk-container-id-5 div.sk-parallel-item:last-child::after {align-self: flex-start;width: 50%;}#sk-container-id-5 div.sk-parallel-item:only-child::after {width: 0;}#sk-container-id-5 div.sk-dashed-wrapped {border: 1px dashed gray;margin: 0 0.4em 0.5em 0.4em;box-sizing: border-box;padding-bottom: 0.4em;background-color: white;}#sk-container-id-5 div.sk-label label {font-family: monospace;font-weight: bold;display: inline-block;line-height: 1.2em;}#sk-container-id-5 div.sk-label-container {text-align: center;}#sk-container-id-5 div.sk-container {/* jupyter's `normalize.less` sets `[hidden] { display: none; }` but bootstrap.min.css set `[hidden] { display: none !important; }` so we also need the `!important` here to be able to override the default hidden behavior on the sphinx rendered scikit-learn.org. See: https://github.com/scikit-learn/scikit-learn/issues/21755 */display: inline-block !important;position: relative;}#sk-container-id-5 div.sk-text-repr-fallback {display: none;}</style><div id=\"sk-container-id-5\" class=\"sk-top-container\"><div class=\"sk-text-repr-fallback\"><pre>SVC(kernel=&#x27;poly&#x27;, random_state=4)</pre><b>In a Jupyter environment, please rerun this cell to show the HTML representation or trust the notebook. <br />On GitHub, the HTML representation is unable to render, please try loading this page with nbviewer.org.</b></div><div class=\"sk-container\" hidden><div class=\"sk-item\"><div class=\"sk-estimator sk-toggleable\"><input class=\"sk-toggleable__control sk-hidden--visually\" id=\"sk-estimator-id-7\" type=\"checkbox\" checked><label for=\"sk-estimator-id-7\" class=\"sk-toggleable__label sk-toggleable__label-arrow\">SVC</label><div class=\"sk-toggleable__content\"><pre>SVC(kernel=&#x27;poly&#x27;, random_state=4)</pre></div></div></div></div></div>"
            ]
          },
          "metadata": {},
          "execution_count": 64
        }
      ],
      "source": [
        "model3.fit(train_inputs, train_targets)"
      ]
    },
    {
      "cell_type": "code",
      "execution_count": 65,
      "metadata": {
        "id": "ADKxJSLjTTJO",
        "colab": {
          "base_uri": "https://localhost:8080/"
        },
        "outputId": "b345dcb9-5cc3-42aa-a411-ed7b59da3e1d"
      },
      "outputs": [
        {
          "output_type": "execute_result",
          "data": {
            "text/plain": [
              "0.7692454545454546"
            ]
          },
          "metadata": {},
          "execution_count": 65
        }
      ],
      "source": [
        "accuracy_score(model3.predict(train_inputs), train_targets)"
      ]
    },
    {
      "cell_type": "code",
      "execution_count": 66,
      "metadata": {
        "id": "OSVJFuJDTTGI",
        "colab": {
          "base_uri": "https://localhost:8080/"
        },
        "outputId": "a7c734ed-6045-4ddb-f871-7f68fc93c850"
      },
      "outputs": [
        {
          "output_type": "execute_result",
          "data": {
            "text/plain": [
              "0.5189535388623534"
            ]
          },
          "metadata": {},
          "execution_count": 66
        }
      ],
      "source": [
        "accuracy_score(model3.predict(val_inputs), val_targets)"
      ]
    },
    {
      "cell_type": "code",
      "execution_count": 67,
      "metadata": {
        "id": "A5-4ELC6TTDC"
      },
      "outputs": [],
      "source": [
        "test_preds = model3.predict(test_inputs)\n",
        "\n",
        "sub_df.Sentiment = test_preds\n",
        "\n",
        "sub_df.to_csv('SVMSubmission.csv', index = None)"
      ]
    },
    {
      "cell_type": "markdown",
      "metadata": {
        "id": "ajbRuTK2iK7G"
      },
      "source": [
        "# Conclusion - Best Score\n",
        "\n",
        "![image.png](data:image/png;base64,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)"
      ]
    },
    {
      "cell_type": "markdown",
      "metadata": {
        "id": "zhVGx0VZe6Gg"
      },
      "source": [
        "## Submission and Future Work\n",
        "\n",
        "\n",
        "How to make a submission:\n",
        "\n",
        "- Add documentation and explanations\n",
        "- Clean up any stray code/comments\n",
        "- Include a screenshot of your best score\n",
        "- Make a submission on the assignment page\n",
        "- Review evaluation criteria carefully\n",
        "\n",
        "\n",
        "Future work:\n",
        "- Try more machine learning models\n",
        "- Try configuring CountVectorizer differently\n",
        "- Try approaches other than bag of words\n"
      ]
    }
  ],
  "metadata": {
    "colab": {
      "provenance": [],
      "include_colab_link": true
    },
    "kernelspec": {
      "display_name": "Python 3",
      "name": "python3"
    },
    "language_info": {
      "codemirror_mode": {
        "name": "ipython",
        "version": 3
      },
      "file_extension": ".py",
      "mimetype": "text/x-python",
      "name": "python",
      "nbconvert_exporter": "python",
      "pygments_lexer": "ipython3",
      "version": "3.9.6"
    }
  },
  "nbformat": 4,
  "nbformat_minor": 0
}